{
 "cells": [
  {
   "cell_type": "markdown",
   "metadata": {},
   "source": [
    "# COGS18 Final Project: Ski Condition App\n",
    "<H4>Desciption</H4>\n",
    "\n",
    "As an avid skier myself, whenever I want to go to ski, I would have to do a lot of research before I start my trip. In the light of this, I want to design a program that would tell me if the ski resort is in good ski condition immediately.\n",
    "\n",
    "In detail, the user will input a ski resort name, and the program will get the latitude and longitude of the given location, utilizing Google Maps API (https://pypi.org/project/googlemaps/1.0.2/). Next, using OpenWeather API (https://openweathermap.org/api/one-call-api), the program will provide detail weather information for that place for the past five days, including amount of snowfall, rainfall and average temperature. Lastly, it will take the data and compare them with pre-made threshold, returning if the place is suitable for skiing or not. This project contains one script (app.py), two modules (google_maps.py & weather.py) and four unit test cases.\n",
    "\n",
    "<H4>Extra Credit</H4>\n",
    "\n",
    "I believe this project goes beyond the expectation as I applied certain features that have not been introduced before in this course. The main part of my project is to utilize API functions to get data/information from google. The steps to implement google maps and open weather API required a decent amount of time and effort of research, yet using sources online and integrate it into my own code is also challenging. Moreover, I believe that parsing such enormous data provided by the APIs is also extra credit-worthy. I dealt with some complicated nested dictionaries and lists, and figured to extract useful data for my measurements. \n",
    "Also, I ran into some issues when trying to unit test my functions that were making API calls. I had to research how to test it in such a way that it didn't actually make a request to the API. So I researched and found out about mocking functions and used that to have better unit tests. "
   ]
  },
  {
   "cell_type": "code",
   "execution_count": 1,
   "metadata": {},
   "outputs": [
    {
     "name": "stdout",
     "output_type": "stream",
     "text": [
      "python: can't open file 'app.py': [Errno 2] No such file or directory\r\n"
     ]
    }
   ],
   "source": [
    "# To run (best run on a command line, not jupyter)\n",
    "!python app.py"
   ]
  },
  {
   "cell_type": "code",
   "execution_count": null,
   "metadata": {},
   "outputs": [],
   "source": [
    "# To Run Tests\n",
    "!python -m pytest tests/"
   ]
  },
  {
   "cell_type": "code",
   "execution_count": null,
   "metadata": {},
   "outputs": [],
   "source": []
  }
 ],
 "metadata": {
  "kernelspec": {
   "display_name": "Python 3",
   "language": "python",
   "name": "python3"
  },
  "language_info": {
   "codemirror_mode": {
    "name": "ipython",
    "version": 3
   },
   "file_extension": ".py",
   "mimetype": "text/x-python",
   "name": "python",
   "nbconvert_exporter": "python",
   "pygments_lexer": "ipython3",
   "version": "3.7.6"
  }
 },
 "nbformat": 4,
 "nbformat_minor": 4
}
